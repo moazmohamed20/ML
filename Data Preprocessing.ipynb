{
 "cells": [
  {
   "cell_type": "markdown",
   "metadata": {},
   "source": [
    "# Heart Failure Prediction"
   ]
  },
  {
   "cell_type": "markdown",
   "metadata": {},
   "source": [
    "## About Dataset"
   ]
  },
  {
   "cell_type": "markdown",
   "metadata": {},
   "source": [
    "### Source"
   ]
  },
  {
   "cell_type": "markdown",
   "metadata": {},
   "source": [
    "This dataset was created by combining 5 different heart datasets with over 11 common features which makes it the largest heart disease dataset available so far for research purposes.\n",
    "The dataset used can be found on the following link: [Heart Failure Prediction Dataset](https://www.kaggle.com/datasets/fedesoriano/heart-failure-prediction)"
   ]
  },
  {
   "cell_type": "markdown",
   "metadata": {},
   "source": [
    "### Features"
   ]
  },
  {
   "cell_type": "markdown",
   "metadata": {},
   "source": [
    "|    Feature     |  Type   | Description                                                 | Values                                                                                                                         |\n",
    "| :------------: | :-----: | :---------------------------------------------------------- | :----------------------------------------------------------------------------------------------------------------------------- |\n",
    "|      Age       |  int64  | Age of the patient                                          | Years                                                                                                                          |\n",
    "|      Sex       | object  | Sex of the patient                                          | **M**: Male <br/> **F**: Female                                                                                                |\n",
    "| ChestPainType  | object  | Chest pain type                                             | **TA**: Typical Angina <br/> **ATA**: Atypical Angina <br/> **NAP**: Non-Anginal Pain <br/> **ASY**: Asymptomatic              |\n",
    "|   RestingBP    |  int64  | Resting blood pressure                                      | mm/Hg                                                                                                                          |\n",
    "|  Cholesterol   |  int64  | Serum cholesterol                                           | mm/dl                                                                                                                          |\n",
    "|   FastingBS    |  int64  | Fasting blood sugar                                         | **1**: If FastingBS > 120 mg/dl <br/> **0**: Otherwise                                                                         |\n",
    "|   RestingECG   | object  | Resting electrocardiogram results                           | **Normal**: Normal <br/> **ST**: Having ST-T wave abnormality <br/> **LVH**: Probable or definite left ventricular hypertrophy |\n",
    "|     MaxHR      |  int64  | Maximum heart rate achieved                                 | Numeric value between **60** and **202**                                                                                       |\n",
    "| ExerciseAngina | object  | Exercise-induced angina                                     | **Y**: Yes <br/> **N**: No                                                                                                     |\n",
    "|    Oldpeak     | float64 | Oldpeak = [ST](https://en.wikipedia.org/wiki/ST_depression) | Numeric value measured in depression                                                                                           |\n",
    "|    ST_Slope    | object  | The slope of the peak exercise ST segment                   | **Up**: Upsloping <br/> **Flat**: Flat <br/> **Down**: Downsloping                                                             |\n",
    "|  HeartDisease  |  int64  | Output class                                                | **1**: Heart disease <br/> **0**: Normal                                                                                       |"
   ]
  },
  {
   "cell_type": "markdown",
   "metadata": {},
   "source": [
    "**Features With Missing Data:**  \n",
    "`None`\n",
    "\n",
    "**Features To Encode:**\n",
    "\n",
    "|    Feature     | Values                                           | Encoder       |\n",
    "| :------------: | :----------------------------------------------- | :------------ |\n",
    "|      Sex       | **M** <br/> **F**                                | OneHotEncoder |\n",
    "| ChestPainType  | **TA** <br/> **ATA** <br/> **NAP** <br/> **ASY** | OneHotEncoder |\n",
    "|   RestingECG   | **Normal** <br/> **ST** <br/> **LVH**            | OneHotEncoder |\n",
    "| ExerciseAngina | **Y** <br/> **N**                                | OneHotEncoder |\n",
    "|    ST_Slope    | **Up** <br/> **Flat** <br/> **Down**             | OneHotEncoder |\n",
    "\n",
    "**Features To Scale:**\n",
    "\n",
    "|   Feature   | Scaler         |\n",
    "| :---------: | :------------- |\n",
    "|     Age     | StandardScaler |\n",
    "|  RestingBP  | StandardScaler |\n",
    "| Cholesterol | StandardScaler |\n",
    "|    MaxHR    | StandardScaler |\n",
    "|   Oldpeak   | StandardScaler |"
   ]
  }
 ],
 "metadata": {
  "interpreter": {
   "hash": "63fd5069d213b44bf678585dea6b12cceca9941eaf7f819626cde1f2670de90d"
  },
  "kernelspec": {
   "display_name": "Python 3.9.6 64-bit",
   "language": "python",
   "name": "python3"
  },
  "language_info": {
   "codemirror_mode": {
    "name": "ipython",
    "version": 3
   },
   "file_extension": ".py",
   "mimetype": "text/x-python",
   "name": "python",
   "nbconvert_exporter": "python",
   "pygments_lexer": "ipython3",
   "version": "3.9.6"
  },
  "orig_nbformat": 4
 },
 "nbformat": 4,
 "nbformat_minor": 2
}
